{
 "cells": [
  {
   "cell_type": "markdown",
   "metadata": {},
   "source": [
    "# Assignment 1"
   ]
  },
  {
   "cell_type": "markdown",
   "metadata": {},
   "source": [
    "### FDP1"
   ]
  },
  {
   "cell_type": "code",
   "execution_count": 1,
   "metadata": {},
   "outputs": [],
   "source": [
    "import numpy as np\n",
    "import numpy.matlib as mb\n",
    "import random\n",
    "import math"
   ]
  },
  {
   "cell_type": "code",
   "execution_count": 2,
   "metadata": {},
   "outputs": [
    {
     "name": "stdout",
     "output_type": "stream",
     "text": [
      "[[0.8 0.1 0.1]\n",
      " [0.2 0.6 0.2]\n",
      " [0.1 0.2 0.7]]\n"
     ]
    }
   ],
   "source": [
    "A=np.array([[0.8,0.1,0.1],[0.2,0.6,0.2],[0.1,0.2,0.7]])\n",
    "print(A)\n",
    "m,n=np.shape(A)\n",
    "A=np.transpose(A)\n",
    "Ainf=np.power(A,50)\n",
    "e1=Ainf[:,0]"
   ]
  },
  {
   "cell_type": "code",
   "execution_count": 3,
   "metadata": {},
   "outputs": [
    {
     "name": "stdout",
     "output_type": "stream",
     "text": [
      "A*first column of Ainf\n",
      "[[1.14179815e-05 2.00000000e-51 1.00000000e-51]\n",
      " [1.42724769e-06 6.00000000e-51 2.00000000e-51]\n",
      " [1.42724769e-06 2.00000000e-51 7.00000000e-51]]\n"
     ]
    }
   ],
   "source": [
    "print('A*first column of Ainf')\n",
    "print(A*e1)"
   ]
  },
  {
   "cell_type": "code",
   "execution_count": 4,
   "metadata": {},
   "outputs": [
    {
     "name": "stdout",
     "output_type": "stream",
     "text": [
      "All sum_normalized eigen vector of A\n",
      "[[-0.42105263 -0.5         0.19098301]\n",
      " [-0.26315789  0.19098301 -0.5       ]\n",
      " [-0.31578947  0.30901699  0.30901699]]\n",
      "All eigen values of A\n",
      "[[1.        0.        0.       ]\n",
      " [0.        0.6618034 0.       ]\n",
      " [0.        0.        0.4381966]]\n"
     ]
    }
   ],
   "source": [
    "eigval,eigvec=np.linalg.eig(A)\n",
    "column_sum=sum(abs(eigvec))\n",
    "divisor=mb.repmat(column_sum,m,1)\n",
    "sumnorm_eigvec=np.divide(eigvec,divisor)\n",
    "print('All sum_normalized eigen vector of A')\n",
    "print(sumnorm_eigvec)\n",
    "print('All eigen values of A')\n",
    "print(np.diag(eigval))"
   ]
  },
  {
   "cell_type": "markdown",
   "metadata": {},
   "source": [
    "### FDP2"
   ]
  },
  {
   "cell_type": "code",
   "execution_count": 5,
   "metadata": {},
   "outputs": [],
   "source": [
    "T=np.array([[0.8,0.1,0.1],[0.2,0.6,0.2],[0.15,0.15,0.7]])\n",
    "n=1000\n",
    "s=np.empty([n])\n",
    "s[0]=random.randint(1,3)"
   ]
  },
  {
   "cell_type": "code",
   "execution_count": 6,
   "metadata": {},
   "outputs": [
    {
     "name": "stdout",
     "output_type": "stream",
     "text": [
      "Part of state sequence\n",
      "[3. 3. 3. 3. 3. 3. 3. 2. 2. 1. 1. 2.]\n"
     ]
    }
   ],
   "source": [
    "for i in range(n-1):\n",
    "    cs=s[i] \n",
    "    if cs==1:\n",
    "        r=random.random()\n",
    "        if r<T[0,0]:\n",
    "            s[i+1]=1\n",
    "        elif  r<T[0,0]+T[0,1]:\n",
    "            s[i+1]=2\n",
    "        else:\n",
    "            s[i+1]=3\n",
    "    elif cs==2:\n",
    "        r=random.random()\n",
    "        if r<T[1,0]:\n",
    "            s[i+1]=1\n",
    "        elif r<T[1,0]+T[1,1]:\n",
    "            s[i+1]=2\n",
    "        else:\n",
    "            s[i+1]=3;\n",
    "    else:\n",
    "        r=random.random()\n",
    "        if r<T[2,0]:\n",
    "            s[i+1]=1;\n",
    "        elif  r<T[2,0]+T[2,1]:\n",
    "            s[i+1]=2\n",
    "        else:\n",
    "            s[i+1]=3\n",
    "\n",
    "print('Part of state sequence')\n",
    "print(s[np.arange(0,12)])"
   ]
  },
  {
   "cell_type": "code",
   "execution_count": 7,
   "metadata": {},
   "outputs": [
    {
     "name": "stdout",
     "output_type": "stream",
     "text": [
      "Estimated transition probabilities\n",
      "[[0.80284553 0.09756098 0.09349593]\n",
      " [0.22641509 0.52830189 0.23584906]\n",
      " [0.15614618 0.16611296 0.6744186 ]]\n",
      "Original transition probabilities\n",
      "[[0.8  0.1  0.1 ]\n",
      " [0.2  0.6  0.2 ]\n",
      " [0.15 0.15 0.7 ]]\n"
     ]
    }
   ],
   "source": [
    "# Counting transition\n",
    "A=np.zeros((3,3))\n",
    "n=np.size(s)\n",
    "for i in range(n-1):\n",
    "    k=int(s[i])\n",
    "    l=int(s[i+1])\n",
    "    A[k-1,l-1]=A[k-1,l-1]+1\n",
    "print('Estimated transition probabilities')\n",
    "rowsum=np.transpose(np.array([sum(A,2)]));\n",
    "div=mb.repmat(rowsum,1,3);\n",
    "A=np.divide(A,div)\n",
    "print(A)\n",
    "print('Original transition probabilities')\n",
    "print(T)"
   ]
  },
  {
   "cell_type": "markdown",
   "metadata": {},
   "source": [
    "### FDP 3"
   ]
  },
  {
   "cell_type": "code",
   "execution_count": 8,
   "metadata": {},
   "outputs": [],
   "source": [
    "#HMM data Generation\n",
    "# transition prob are [T11 T12; T21 T22]\n",
    "T=np.array([[0.5,0.5],[0.4,0.6]])\n",
    "state1h=0.7\n",
    "state1t=0.3\n",
    "state2h=0.6\n",
    "state2t=0.4\n",
    "x=random.random()\n",
    "if x<0.5:\n",
    "    start_state=1;\n",
    "else:\n",
    "    start_state=2;\n",
    "\n",
    "current_state=start_state;\n",
    "\n",
    "s=np.empty([100000])\n",
    "s[0]=current_state\n",
    "Obs=''\n",
    "for i in range(1,100000):\n",
    "    if current_state==1:\n",
    "        x=random.random()\n",
    "        if x<state1h:\n",
    "            Obs+='H';\n",
    "        else:\n",
    "            Obs+='T';\n",
    "        x=random.random();\n",
    "        if x<T[0,0]:\n",
    "            current_state=1;\n",
    "        else:\n",
    "            current_state=2; \n",
    "    else:\n",
    "        x=random.random()\n",
    "        if x<state2h:\n",
    "            Obs+='H'\n",
    "        else:\n",
    "            Obs+='T'\n",
    "        x=random.random();\n",
    "        if x<T[1,1]:\n",
    "            current_state=2;\n",
    "        else:\n",
    "            current_state=1; \n",
    "    s[i]=current_state;"
   ]
  },
  {
   "cell_type": "code",
   "execution_count": 9,
   "metadata": {},
   "outputs": [
    {
     "name": "stdout",
     "output_type": "stream",
     "text": [
      "part of state sequence\n",
      "[1. 2. 1. 2. 2. 2. 1. 2. 2. 2.]\n",
      "part of symbol sequence\n",
      "['H' 'H' 'H' 'H' 'H' 'T' 'T' 'H' 'H' 'H']\n",
      "restimated emission probabilities\n",
      "e1(H)\n",
      "0.7017654334870123\n",
      "e1(T)\n",
      "0.29823456651298774\n",
      "e2(H)\n",
      "0.6014333561421832\n",
      "e2(T)\n",
      "0.3985666438578168\n"
     ]
    }
   ],
   "source": [
    "#Obs;\n",
    "s=s[np.arange(np.size(s)-1)]\n",
    "stat1CH=0;\n",
    "stat1CT=0;\n",
    "stat2CH=0;\n",
    "stat2CT=0;\n",
    "Obs=np.array(list(Obs))\n",
    "for i in range(np.size(s)):\n",
    "    e=Obs[i];\n",
    "    if s[i]==1 and e=='H':\n",
    "        stat1CH=stat1CH+1\n",
    "    elif s[i]==1 and e=='T':\n",
    "        stat1CT=stat1CT+1  \n",
    "    elif s[i]==2 and e=='H':\n",
    "        stat2CH=stat2CH+1;\n",
    "    else:\n",
    "        stat2CT=stat2CT+1;\n",
    "\n",
    "print('part of state sequence')\n",
    "print(s[np.arange(10)]);\n",
    "print('part of symbol sequence')\n",
    "print(Obs[np.arange(10)]);\n",
    "total=stat1CH+stat1CT+stat2CH+stat2CT\n",
    "e1H=stat1CH/(stat1CH+stat1CT);\n",
    "e1T=stat1CT/(stat1CH+stat1CT);\n",
    "e2H=stat2CH/(stat2CH+stat2CT);\n",
    "e2T=stat2CT/(stat2CH+stat2CT);\n",
    "print('restimated emission probabilities')\n",
    "print('e1(H)')\n",
    "print(e1H)\n",
    "print('e1(T)')\n",
    "print(e1T)\n",
    "print('e2(H)')\n",
    "print(e2H)\n",
    "print('e2(T)')\n",
    "print(e2T)"
   ]
  },
  {
   "cell_type": "markdown",
   "metadata": {},
   "source": [
    "### FDP 4"
   ]
  },
  {
   "cell_type": "code",
   "execution_count": 10,
   "metadata": {},
   "outputs": [],
   "source": [
    "def ibase(n, radix=2, maxlen=None):\n",
    "    r = []\n",
    "    while n:\n",
    "        n,p = divmod(n, radix)\n",
    "        r.append('%d' % p)\n",
    "        if maxlen and len(r) > maxlen:\n",
    "            break\n",
    "    r.reverse()\n",
    "    if len(r)<maxlen:\n",
    "        for i in range(maxlen-len(r)):\n",
    "            r.insert(0,'0')\n",
    "    return ''.join(r)"
   ]
  },
  {
   "cell_type": "code",
   "execution_count": 11,
   "metadata": {},
   "outputs": [
    {
     "data": {
      "text/plain": [
       "array(['22222', '22221', '22212', '22211', '22122', '22121', '22112',\n",
       "       '22111', '21222', '21221', '21212', '21211', '21122', '21121',\n",
       "       '21112', '21111', '12222', '12221', '12212', '12211', '12122',\n",
       "       '12121', '12112', '12111', '11222', '11221', '11212', '11211',\n",
       "       '11122', '11121', '11112', '11111'], dtype='<U5')"
      ]
     },
     "execution_count": 11,
     "metadata": {},
     "output_type": "execute_result"
    }
   ],
   "source": [
    "n=32;\n",
    "Seq=np.array(['22222']);\n",
    "for i in range(1,n):\n",
    "    x=ibase(i,2,5)\n",
    "    x= x.replace('0','2')\n",
    "    Seq=np.append(Seq,x)\n",
    "Seq"
   ]
  },
  {
   "cell_type": "markdown",
   "metadata": {},
   "source": [
    "### FDP 5"
   ]
  },
  {
   "cell_type": "code",
   "execution_count": 12,
   "metadata": {},
   "outputs": [
    {
     "data": {
      "text/plain": [
       "0.00110592"
      ]
     },
     "execution_count": 12,
     "metadata": {},
     "output_type": "execute_result"
    }
   ],
   "source": [
    "# Find  P(sym_sequence,satae_sequence)\n",
    "# It is joint probability\n",
    "# Let us take T's elements as [ T11 T12 ; T21 T22[\n",
    "# actual transition prob is transpose of T\n",
    "T=np.array([[0.5,0.5],[0.4,0.6]]);\n",
    "state1h=0.7\n",
    "state1t=0.3\n",
    "state2h=0.6\n",
    "state2t=0.4\n",
    "x='HTTTH'\n",
    "\n",
    "n=len(x); # length of symbol sequence\n",
    "N=2**5;\n",
    "\n",
    "# Get sym_sequence probabiity\n",
    "prodx=1;\n",
    "stat_seq=Seq[9]; # take 10th row\n",
    "for i in range(len(x)):\n",
    "    if stat_seq[i]==1:\n",
    "        if x[i]=='H':\n",
    "            rodx=prodx*state1h;\n",
    "        else:\n",
    "            prodx=prodx*state1t;  \n",
    "    else:\n",
    "        if x[i]=='H':\n",
    "            prodx=prodx*state2h;\n",
    "        else:\n",
    "            prodx=prodx*state2t;  \n",
    "            \n",
    "#Get trans_sequence probabiity\n",
    "prods=1;\n",
    "for i in range(n-1):\n",
    "    j=int(stat_seq[i]);\n",
    "    k=int(stat_seq[i+1]);\n",
    "    prods=prods*T[j-1,k-1];\n",
    "\n",
    "reqd_prob=prodx*prods\n",
    "reqd_prob"
   ]
  },
  {
   "cell_type": "markdown",
   "metadata": {},
   "source": [
    "### FDP 6"
   ]
  },
  {
   "cell_type": "code",
   "execution_count": 23,
   "metadata": {},
   "outputs": [
    {
     "name": "stdout",
     "output_type": "stream",
     "text": [
      "Observed Sequence is\n",
      "['H' 'T' 'T' 'H']\n",
      "\n",
      " prob_of_sequence= 0.052849999999999994\n"
     ]
    }
   ],
   "source": [
    "# Forward Probability tabke Generation\n",
    "T=np.array([[0.7,0.3],[0.2,0.8]])\n",
    "state1H=0.8 \n",
    "state1T=0.2\n",
    "state2H=0.3  \n",
    "state2T=0.7\n",
    "Sequence='HTTH'\n",
    "Sequence=np.array(list(Sequence))\n",
    "s1Prob=np.empty([n])\n",
    "s2Prob=np.empty([n])\n",
    "L=len(Sequence)\n",
    "# Dummy prob array  for fast computation\n",
    "for i in range(L): \n",
    "    if Sequence[i]=='H':\n",
    "        s1Prob[i]=state1H;\n",
    "        s2Prob[i]=state2H;\n",
    "    else:\n",
    "        s1Prob[i]=state1T;\n",
    "        s2Prob[i]=state2T; \n",
    "\n",
    "ForwardT=np.zeros((2,L));\n",
    "ForwardT[0,0]=0.5*s1Prob[0];\n",
    "ForwardT[1,0]=0.5*s2Prob[0];\n",
    "\n",
    "for j in range(1,L):\n",
    "    ForwardT[0,j]=ForwardT[0,j-1]*T[0,0]*s1Prob[j]+ForwardT[1,j-1]*T[1,0]*s1Prob[j];\n",
    "    ForwardT[1,j]=ForwardT[0,j-1]*T[0,1]*s2Prob[j]+ForwardT[1,j-1]*T[1,1]*s2Prob[j];\n",
    "\n",
    "print('Observed Sequence is')\n",
    "print(Sequence)\n",
    "\n",
    "ForwardT\n",
    "\n",
    "prob_of_sequence=sum(ForwardT[:,L-1]);\n",
    "\n",
    "print(\"\\n\",'prob_of_sequence=',prob_of_sequence)"
   ]
  },
  {
   "cell_type": "markdown",
   "metadata": {},
   "source": [
    "### FDP 7"
   ]
  },
  {
   "cell_type": "code",
   "execution_count": 28,
   "metadata": {},
   "outputs": [
    {
     "name": "stdout",
     "output_type": "stream",
     "text": [
      "backward Probability Table\n",
      "[[0.077 0.175 0.65  1.   ]\n",
      " [0.147 0.25  0.4   1.   ]]\n",
      "\n",
      " Probabiliy of sequence=\n",
      "0.05284999999999999\n"
     ]
    }
   ],
   "source": [
    "# Backward Algorithm\n",
    "#HMM data Generation\n",
    "T=np.array([[0.7,0.3],[0.2,0.8]])\n",
    "state1H=0.8 \n",
    "state1T=0.2\n",
    "state2H=0.3  \n",
    "state2T=0.7\n",
    "Sequence='HTTH'\n",
    "Sequence=np.array(list(Sequence))\n",
    "s1Prob=np.empty([n])\n",
    "s2Prob=np.empty([n])\n",
    "L=len(Sequence)\n",
    "# Dummy prob array  for fast computation\n",
    "for i in range(L): \n",
    "    if Sequence[i]=='H':\n",
    "        s1Prob[i]=state1H;\n",
    "        s2Prob[i]=state2H;\n",
    "    else:\n",
    "        s1Prob[i]=state1T;\n",
    "        s2Prob[i]=state2T; \n",
    "\n",
    "BackwardT=np.zeros((2,L));\n",
    "BackwardT[0,L-1]=1;\n",
    "BackwardT[1,L-1]=1;\n",
    "for i in reversed(range(0,L-1,1)):\n",
    "    BackwardT[0,i]= T[0,0]* s1Prob[i+1]*BackwardT[0,i+1] + T[0,1]*s2Prob[i+1]*BackwardT[1,i+1];\n",
    "    BackwardT[1,i]= T[1,0]* s1Prob[i+1]*BackwardT[0,i+1] + T[1,1]*s2Prob[i+1]*BackwardT[1,i+1];\n",
    "\n",
    "\n",
    "print('backward Probability Table')\n",
    "print(BackwardT)\n",
    "\n",
    "print(\"\\n\",'Probabiliy of sequence=')\n",
    "prob_seqx=0.5*BackwardT[0,0]*s1Prob[0]+0.5*BackwardT[1,0]*s2Prob[0]\n",
    "print(prob_seqx)"
   ]
  },
  {
   "cell_type": "markdown",
   "metadata": {},
   "source": [
    "### FDP 8"
   ]
  },
  {
   "cell_type": "code",
   "execution_count": 42,
   "metadata": {},
   "outputs": [
    {
     "name": "stdout",
     "output_type": "stream",
     "text": [
      "Observed Sequence is\n",
      "['H' 'T' 'T' 'H']\n",
      "\n",
      " viterbi table is\n",
      "[[0.4       0.056     0.00784   0.0169344]\n",
      " [0.15      0.168     0.10584   0.0261072]]\n",
      "prob(sequence along viterbipath)= 0.026107199999999994\n",
      "\n",
      " most probable path sequence is\n",
      "[0. 0. 0. 0. 1.]\n"
     ]
    }
   ],
   "source": [
    "#Viterbi algorithm\n",
    "T=np.array([[0.7,0.3],[0.2,0.8]])\n",
    "state1H=0.8 \n",
    "state1T=0.2\n",
    "state2H=0.3  \n",
    "state2T=0.7\n",
    "Sequence='HTTH'\n",
    "Sequence=np.array(list(Sequence))\n",
    "s1Prob=np.empty([n])\n",
    "s2Prob=np.empty([n])\n",
    "L=len(Sequence)\n",
    "# Dummy prob array  for fast computation\n",
    "for i in range(L): \n",
    "    if Sequence[i]=='H':\n",
    "        s1Prob[i]=state1H;\n",
    "        s2Prob[i]=state2H;\n",
    "    else:\n",
    "        s1Prob[i]=state1T;\n",
    "        s2Prob[i]=state2T; \n",
    "\n",
    "ForwardT=np.zeros((2,L));\n",
    "ForwardT[0,0]=0.5*s1Prob[0];\n",
    "ForwardT[1,0]=0.5*s2Prob[0];\n",
    "\n",
    "Ptr=np.zeros((2,L));\n",
    "Ptr[0,0]=0;\n",
    "Ptr[1,0]=0;\n",
    "\n",
    "for j in range(1,L):\n",
    "    maxval=max([ForwardT[0,j-1]*T[0,0]*s1Prob[j],ForwardT[1,j-1]*T[1,0]*s1Prob[j]]);\n",
    "    index=[ForwardT[0,j-1]*T[0,0]*s1Prob[j],ForwardT[1,j-1]*T[1,0]*s1Prob[j]].index(maxval)\n",
    "    ForwardT[0,j]=maxval;\n",
    "    Ptr[0,j]=index;\n",
    "    maxval=max([ForwardT[0,j-1]*T[0,1]*s2Prob[j]+ForwardT[1,j-1]*T[1,1]*s2Prob[j]]);\n",
    "    index=[ForwardT[0,j-1]*T[0,1]*s2Prob[j]+ForwardT[1,j-1]*T[1,1]*s2Prob[j]].index(maxval)\n",
    "    ForwardT[1,j]=maxval;\n",
    "    Ptr[1,j]=index;\n",
    "\n",
    "print('Observed Sequence is')\n",
    "print(Sequence)\n",
    "print(\"\\n\",'viterbi table is')\n",
    "print(ForwardT)\n",
    "\n",
    "# Pathsequence\n",
    "maxval=max([ForwardT[0,L-1],ForwardT[1,L-1]]);\n",
    "index=[ForwardT[0,L-1],ForwardT[1,L-1]].index(maxval)\n",
    "print('prob(sequence along viterbipath)=',maxval)\n",
    "\n",
    "# Tracking the state sequence include the state 0\n",
    "patharray=np.zeros(L+1);\n",
    "\n",
    "# since patharray is one dimensional, single index will do\n",
    "patharray[L]=index;\n",
    "\n",
    "for i in reversed(range(0,L)):\n",
    "    ptrvalue=int(patharray[i+1]);\n",
    "    patharray[i]=Ptr[ptrvalue,i];\n",
    "\n",
    "print(\"\\n\",'most probable path sequence is')\n",
    "print(patharray)"
   ]
  }
 ],
 "metadata": {
  "kernelspec": {
   "display_name": "Python 3",
   "language": "python",
   "name": "python3"
  },
  "language_info": {
   "codemirror_mode": {
    "name": "ipython",
    "version": 3
   },
   "file_extension": ".py",
   "mimetype": "text/x-python",
   "name": "python",
   "nbconvert_exporter": "python",
   "pygments_lexer": "ipython3",
   "version": "3.7.4"
  }
 },
 "nbformat": 4,
 "nbformat_minor": 2
}
