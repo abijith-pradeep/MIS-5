{
 "cells": [
  {
   "cell_type": "code",
   "execution_count": 1,
   "metadata": {},
   "outputs": [],
   "source": [
    "import time"
   ]
  },
  {
   "cell_type": "markdown",
   "metadata": {},
   "source": [
    "# 1) Solving by Brute Force method"
   ]
  },
  {
   "cell_type": "code",
   "execution_count": 2,
   "metadata": {},
   "outputs": [],
   "source": [
    "# Initializing values\n",
    "a0,a11,a12,a21,a22 = 0.5,0.7,0.3,0.2,0.8"
   ]
  },
  {
   "cell_type": "code",
   "execution_count": 3,
   "metadata": {},
   "outputs": [],
   "source": [
    "state1h,state1t,state2h,state2t=0.8,0.2,0.3,0.7"
   ]
  },
  {
   "cell_type": "code",
   "execution_count": 4,
   "metadata": {},
   "outputs": [],
   "source": [
    "start_time_1 = time.time()"
   ]
  },
  {
   "cell_type": "code",
   "execution_count": 5,
   "metadata": {},
   "outputs": [],
   "source": [
    "pi1 = a0*state1h*a11*state1t*a11*state1t*a11*state1h\n",
    "pi2 = a0*a11*a12*a21*state1h*state1t*state2t*state1h\n",
    "pi3 = a0*a11*a11*a12*state1h*state1t*state1t*state2h\n",
    "pi4 = a0*a11*a12*a22*state1h*state1t*state2t*state2h\n",
    "pi5 = a0*a21*a11*a11*state2h*state1t*state1t*state1h\n",
    "pi6 = a0*a21*a12*a21*state2h*state1t*state2t*state1h\n",
    "pi7 = a0*a21*a11*a12*state2h*state1t*state1t*state2h\n",
    "pi8 = a0*a21*a12*a22*state2h*state1t*state2t*state2h"
   ]
  },
  {
   "cell_type": "code",
   "execution_count": 6,
   "metadata": {},
   "outputs": [
    {
     "data": {
      "text/plain": [
       "0.010849999999999999"
      ]
     },
     "execution_count": 6,
     "metadata": {},
     "output_type": "execute_result"
    }
   ],
   "source": [
    "prob = pi1+pi2+pi3+pi4+pi5+pi6+pi7+pi8\n",
    "prob"
   ]
  },
  {
   "cell_type": "code",
   "execution_count": 7,
   "metadata": {},
   "outputs": [],
   "source": [
    "finish_time_1 = time.time()"
   ]
  },
  {
   "cell_type": "markdown",
   "metadata": {},
   "source": [
    "## Solution by Markov property"
   ]
  },
  {
   "cell_type": "code",
   "execution_count": 8,
   "metadata": {},
   "outputs": [],
   "source": [
    "start_time_2 = time.time()"
   ]
  },
  {
   "cell_type": "code",
   "execution_count": 9,
   "metadata": {},
   "outputs": [],
   "source": [
    "#forward probability\n",
    "f11 = a0*state1h\n",
    "f21 = a0*state2h\n",
    "f31 = f11*a11*state1t + f21*a21*state1t"
   ]
  },
  {
   "cell_type": "code",
   "execution_count": 10,
   "metadata": {},
   "outputs": [],
   "source": [
    "#backward probability\n",
    "b31 = a11*state1h + a12*state2h;\n",
    "b32 = a21*state1h + a22*state2h;\n",
    "b21 = a11*state1t*b31 + a12*state2t*b32;"
   ]
  },
  {
   "cell_type": "code",
   "execution_count": 11,
   "metadata": {},
   "outputs": [
    {
     "data": {
      "text/plain": [
       "0.010849999999999999"
      ]
     },
     "execution_count": 11,
     "metadata": {},
     "output_type": "execute_result"
    }
   ],
   "source": [
    "probm = f31*b21\n",
    "probm"
   ]
  },
  {
   "cell_type": "code",
   "execution_count": 12,
   "metadata": {},
   "outputs": [],
   "source": [
    "finish_time_2 = time.time()"
   ]
  },
  {
   "cell_type": "markdown",
   "metadata": {},
   "source": [
    "# Comparison of the results"
   ]
  },
  {
   "cell_type": "code",
   "execution_count": 13,
   "metadata": {},
   "outputs": [
    {
     "name": "stdout",
     "output_type": "stream",
     "text": [
      "--- 55.0532341003418 milliseconds ---\n",
      "--- 78.77564430236816 milliseconds ---\n"
     ]
    }
   ],
   "source": [
    "#since both the algorithms give the same output as seen above we can show a time comparison:\n",
    "print(\"--- %s milliseconds ---\" % ((finish_time_1 - start_time_1)*1000))\n",
    "\n",
    "print(\"--- %s milliseconds ---\" % ((finish_time_2 - start_time_2)*1000))"
   ]
  },
  {
   "cell_type": "code",
   "execution_count": null,
   "metadata": {},
   "outputs": [],
   "source": []
  },
  {
   "cell_type": "code",
   "execution_count": null,
   "metadata": {},
   "outputs": [],
   "source": []
  }
 ],
 "metadata": {
  "kernelspec": {
   "display_name": "Python 3",
   "language": "python",
   "name": "python3"
  },
  "language_info": {
   "codemirror_mode": {
    "name": "ipython",
    "version": 3
   },
   "file_extension": ".py",
   "mimetype": "text/x-python",
   "name": "python",
   "nbconvert_exporter": "python",
   "pygments_lexer": "ipython3",
   "version": "3.7.4"
  }
 },
 "nbformat": 4,
 "nbformat_minor": 2
}
